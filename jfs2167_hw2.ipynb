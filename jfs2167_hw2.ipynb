{
 "cells": [
  {
   "cell_type": "code",
   "execution_count": 1,
   "metadata": {},
   "outputs": [
    {
     "name": "stderr",
     "output_type": "stream",
     "text": [
      "C:\\Users\\jakes\\Anaconda3\\lib\\site-packages\\statsmodels\\tools\\_testing.py:19: FutureWarning: pandas.util.testing is deprecated. Use the functions in the public API at pandas.testing instead.\n",
      "  import pandas.util.testing as tm\n"
     ]
    }
   ],
   "source": [
    "import numpy as np\n",
    "import pandas as pd\n",
    "from scipy.stats import poisson, gamma, bernoulli\n",
    "import matplotlib.pyplot as plt\n",
    "import seaborn as sns\n",
    "from sklearn.neighbors import KNeighborsClassifier\n",
    "\n",
    "%matplotlib inline"
   ]
  },
  {
   "cell_type": "code",
   "execution_count": 2,
   "metadata": {},
   "outputs": [],
   "source": [
    "class naive_bayes:\n",
    "    \n",
    "    def __init__(self):\n",
    "        self.num_classes = 2\n",
    "        \n",
    "    def fit(self,X,y):\n",
    "        N = X.shape[0]\n",
    "        D = X.shape[1]\n",
    "        \n",
    "        self.N_group = [np.sum(y==0),np.sum(y==1)]\n",
    "        \n",
    "        self.pi_hat = self.N_group[1]/N\n",
    "        \n",
    "        self.lam = np.empty(shape=(2,D))\n",
    "        for i in range(self.num_classes):\n",
    "            self.lam[i,:] = (np.sum(X[y==i,:],axis=0)+1) / (self.N_group[i] + 1)\n",
    "    \n",
    "    def predict(self,X):\n",
    "        y_hat = np.zeros(shape=X.shape[0])\n",
    "        y0 = np.sum(poisson.logpmf(X,np.expand_dims(self.lam[0,:],axis=0)),axis=1) + np.log(1-self.pi_hat)\n",
    "        y1 = np.sum(poisson.logpmf(X,np.expand_dims(self.lam[1,:],axis=0)),axis=1) + np.log(self.pi_hat)\n",
    "        y_hat[y1>y0] = 1 \n",
    "        \n",
    "        return y_hat\n",
    "        \n",
    "    def score_matrix(self,X,y):\n",
    "        y_hat = self.predict(X)\n",
    "        \n",
    "        score = np.empty(shape=(self.num_classes,self.num_classes))\n",
    "        for i in range(self.num_classes):\n",
    "            for j in range(self.num_classes):\n",
    "                score[i,j] = np.sum(y_hat[y==i]==j)\n",
    "        \n",
    "        return score"
   ]
  },
  {
   "cell_type": "code",
   "execution_count": 3,
   "metadata": {},
   "outputs": [],
   "source": [
    "class KNN:\n",
    "    def __init__(self):\n",
    "        self.num_classes = 2\n",
    "        self.distances = []\n",
    "        \n",
    "    def fit(self,X,y):\n",
    "        self.X_train = X\n",
    "        self.y_train = y\n",
    "        \n",
    "    def compute_distances(self,X):\n",
    "        for i in range(X.shape[0]):\n",
    "            distance = np.sum(np.abs(X[i,:]-self.X_train), axis=1)\n",
    "            #distance = np.linalg.norm(X[i,:]-self.X_train, ord=1, axis=1)\n",
    "            self.distances.append(distance)\n",
    "        \n",
    "    def predict(self,X,k):\n",
    "        if not self.distances:\n",
    "            self.compute_distances(X)\n",
    "        \n",
    "        y_hat = np.zeros(shape=X.shape[0])\n",
    "        for i in range(X.shape[0]):\n",
    "            k_closest = self.y_train[np.argpartition(self.distances[i], k)[:k]]\n",
    "            \n",
    "            if np.sum(k_closest)/k > .5:\n",
    "                y_hat[i] = 1\n",
    "            elif np.sum(k_closest)/k == .5:\n",
    "                y_hat[i] = bernoulli.rvs(.5)\n",
    "        return y_hat\n",
    "        \n",
    "    def score(self,X,y,k):\n",
    "        y_hat = self.predict(X,k)\n",
    "        \n",
    "        score = np.empty(shape=(self.num_classes,self.num_classes))\n",
    "        for i in range(self.num_classes):\n",
    "            for j in range(self.num_classes):\n",
    "                score[i,j] = np.sum(y_hat[y==i]==j)\n",
    "                \n",
    "        accuracy = (score[0,0] + score[1,1])/len(y)\n",
    "        return accuracy"
   ]
  },
  {
   "cell_type": "code",
   "execution_count": 4,
   "metadata": {},
   "outputs": [],
   "source": [
    "X = np.loadtxt('Bayes_classifier/X.csv', delimiter=',')\n",
    "y = np.loadtxt('Bayes_classifier/y.csv', delimiter=',')"
   ]
  },
  {
   "cell_type": "code",
   "execution_count": 5,
   "metadata": {},
   "outputs": [],
   "source": [
    "K = 10\n",
    "batch_size = int(X.shape[0]/K)\n",
    "np.random.seed(10)\n",
    "permuted_index = np.random.permutation(X.shape[0])"
   ]
  },
  {
   "cell_type": "code",
   "execution_count": 6,
   "metadata": {},
   "outputs": [],
   "source": [
    "score = np.zeros(shape=(2,2))\n",
    "lambdas = np.zeros(shape=(2,X.shape[1]))\n",
    "\n",
    "for i in range(K):\n",
    "    test_index = permuted_index[(i*batch_size):((i+1)*batch_size)]\n",
    "    train_index = np.concatenate((permuted_index[0:(i*batch_size)], permuted_index[((i+1)*batch_size):]))\n",
    "\n",
    "    X_train = X[train_index,:]\n",
    "    y_train = y[train_index]\n",
    "    X_test = X[test_index,:]\n",
    "    y_test = y[test_index]\n",
    "    \n",
    "    model = naive_bayes()\n",
    "    model.fit(X_train,y_train)\n",
    "    lambdas += model.lam\n",
    "    score += model.score_matrix(X_test,y_test)\n",
    "    \n",
    "lambdas = lambdas/K"
   ]
  },
  {
   "cell_type": "code",
   "execution_count": 7,
   "metadata": {},
   "outputs": [
    {
     "name": "stdout",
     "output_type": "stream",
     "text": [
      "[[2292.  495.]\n",
      " [  99. 1714.]]\n",
      "0.8708695652173913\n"
     ]
    }
   ],
   "source": [
    "print(score)\n",
    "print((score[0,0]+score[1,1])/4600)"
   ]
  },
  {
   "cell_type": "code",
   "execution_count": 8,
   "metadata": {},
   "outputs": [
    {
     "data": {
      "image/png": "[encoded data removed]",
      "text/plain": [
       "<Figure size 432x288 with 1 Axes>"
      ]
     },
     "metadata": {
      "needs_background": "light"
     },
     "output_type": "display_data"
    }
   ],
   "source": [
    "fig,ax = plt.subplots(1,1);\n",
    "ax.stem(range(1,55),lambdas[1,:]-lambdas[0,:], use_line_collection=True);\n",
    "ax.stem([16,52], [lambdas[1,15]-lambdas[0,15], lambdas[1,51]-lambdas[0,51]], use_line_collection=True, markerfmt='ro')\n",
    "ax.set_xlabel('Feature index');\n",
    "ax.set_ylabel('$\\lambda_1$ relative to $\\lambda_0$ value');\n",
    "ax.set_xlim(0,55);\n",
    "#plt.savefig('2_b.png');"
   ]
  },
  {
   "cell_type": "code",
   "execution_count": 16,
   "metadata": {},
   "outputs": [
    {
     "data": {
      "image/png": "[encoded data removed]",
      "text/plain": [
       "<Figure size 504x288 with 2 Axes>"
      ]
     },
     "metadata": {
      "needs_background": "light"
     },
     "output_type": "display_data"
    }
   ],
   "source": [
    "fig,ax = plt.subplots(1,2,figsize=(7,4));\n",
    "ax[0].stem(range(1,55),lambdas[0,:], use_line_collection=True);\n",
    "ax[0].stem([16,52], [lambdas[0,15], lambdas[0,51]], use_line_collection=True, markerfmt='ro')\n",
    "ax[0].set_xlabel('Feature index');\n",
    "ax[0].set_ylabel('$\\lambda_0$');\n",
    "ax[0].set_xlim(0,55);\n",
    "\n",
    "ax[1].stem(range(1,55),lambdas[1,:], use_line_collection=True);\n",
    "ax[1].stem([16,52], [lambdas[1,15], lambdas[1,51]], use_line_collection=True, markerfmt='ro')\n",
    "ax[1].set_xlabel('Feature index');\n",
    "ax[1].set_ylabel('$\\lambda_1$');\n",
    "ax[1].set_xlim(0,55);\n",
    "\n",
    "plt.savefig('2_b_1.png');"
   ]
  },
  {
   "cell_type": "code",
   "execution_count": null,
   "metadata": {},
   "outputs": [],
   "source": [
    "accuracies = np.zeros(shape=(20))\n",
    "\n",
    "for i in range(K):\n",
    "    test_index = permuted_index[(i*batch_size):((i+1)*batch_size)]\n",
    "    train_index = np.concatenate((permuted_index[0:(i*batch_size)], permuted_index[((i+1)*batch_size):]))\n",
    "\n",
    "    X_train = X[train_index,:]\n",
    "    y_train = y[train_index]\n",
    "    X_test = X[test_index,:]\n",
    "    y_test = y[test_index]\n",
    "\n",
    "    model = KNN()\n",
    "    model.fit(X_train,y_train)\n",
    "\n",
    "    for k in range(20):\n",
    "        accuracies[k] += model.score(X_test,y_test,k+1)\n",
    "\n",
    "accuracies = accuracies/K"
   ]
  },
  {
   "cell_type": "code",
   "execution_count": null,
   "metadata": {},
   "outputs": [],
   "source": [
    "accuracies2 = np.empty(shape=(20))\n",
    "for k in range(20):\n",
    "    accuracy = 0\n",
    "    for i in range(K):\n",
    "        test_index = permuted_index[(i*batch_size):((i+1)*batch_size)]\n",
    "        train_index = np.concatenate((permuted_index[0:(i*batch_size)], permuted_index[((i+1)*batch_size):]))\n",
    "\n",
    "        X_train = X[train_index,:]\n",
    "        y_train = y[train_index]\n",
    "        X_test = X[test_index,:]\n",
    "        y_test = y[test_index]\n",
    "\n",
    "        model = KNeighborsClassifier(n_neighbors=k+1, metric='manhattan')\n",
    "        model.fit(X_train,y_train)\n",
    "        accuracy += model.score(X_test,y_test)\n",
    "    \n",
    "    accuracies2[k] = accuracy/K"
   ]
  },
  {
   "cell_type": "code",
   "execution_count": null,
   "metadata": {},
   "outputs": [],
   "source": [
    "fig,ax = plt.subplots(1,1)\n",
    "ax.plot(range(1,21),accuracies);\n",
    "ax.set_xlabel('Number of neighbors');\n",
    "ax.set_ylabel('Accuracy');\n",
    "ax.set_xlim(1,20);\n",
    "ax.set_xticks(range(1,21));\n",
    "fig.tight_layout();\n",
    "#plt.savefig('2_c.png');"
   ]
  },
  {
   "cell_type": "code",
   "execution_count": null,
   "metadata": {},
   "outputs": [],
   "source": [
    "class gauss_process:\n",
    "    def __init__(self, b=1, sigma2=1):\n",
    "        self.b = b\n",
    "        self.sigma2 = sigma2\n",
    "        \n",
    "    def kernel(self,x1,x2):\n",
    "        return np.exp(-np.sum((x1-x2)**2)/self.b)\n",
    "        \n",
    "    def fit(self,X,y):\n",
    "        self.N = X.shape[0]\n",
    "        self.X_train = X\n",
    "        self.y_train = y\n",
    "        self.kernel_matrix = np.zeros(shape=(self.N,self.N))\n",
    "        for i in range(self.N):\n",
    "            for j in range(self.N-i):\n",
    "                result = self.kernel(self.X_train[i,:], self.X_train[i+j,:])\n",
    "                self.kernel_matrix[i,i+j] = result\n",
    "                self.kernel_matrix[i+j,i] = result\n",
    "        self.matrix_inv = np.linalg.inv(np.diag(np.ones(self.N)*self.sigma2) + self.kernel_matrix)\n",
    "        self.mu_global_part = self.matrix_inv.dot(self.y_train)\n",
    "    \n",
    "    def mu(self,x):\n",
    "        K_xD = np.empty(shape=self.N)\n",
    "        for i in range(self.N):\n",
    "            K_xD[i] = self.kernel(x, self.X_train[i,:])\n",
    "        mu = K_xD.dot(self.mu_global_part)\n",
    "        \n",
    "        return mu\n",
    "    \n",
    "    def predict(self,X):\n",
    "        y_hat = np.empty(shape=X.shape[0])\n",
    "        for i in range(X.shape[0]):\n",
    "            y_hat[i] = self.mu(X[i,:])\n",
    "        \n",
    "        return y_hat\n",
    "        \n",
    "    def score(self,X,y):\n",
    "        y_hat = self.predict(X)\n",
    "        \n",
    "        return np.sqrt(np.sum((y-y_hat)**2)/len(y))"
   ]
  },
  {
   "cell_type": "code",
   "execution_count": null,
   "metadata": {},
   "outputs": [],
   "source": [
    "X_train_G = np.loadtxt('Gaussian_process/X_train.csv',delimiter=',')\n",
    "X_test_G = np.loadtxt('Gaussian_process/X_test.csv',delimiter=',')\n",
    "y_train_G = np.loadtxt('Gaussian_process/y_train.csv',delimiter=',')\n",
    "y_test_G = np.loadtxt('Gaussian_process/y_test.csv',delimiter=',')"
   ]
  },
  {
   "cell_type": "code",
   "execution_count": null,
   "metadata": {},
   "outputs": [],
   "source": [
    "b_range = list(range(5,17,2))\n",
    "sigma2_range = [x/10 for x in list(range(1,11))]\n",
    "rmse_array = np.empty(shape=(len(sigma2_range), len(b_range)))\n",
    "\n",
    "for i in range(len(sigma2_range)):\n",
    "    for j in range(len(b_range)):\n",
    "        gauss_model = gauss_process(b=b_range[j], sigma2=sigma2_range[i])\n",
    "        gauss_model.fit(X_train_G,y_train_G)\n",
    "        rmse_array[i,j] = gauss_model.score(X_test_G,y_test_G)"
   ]
  },
  {
   "cell_type": "code",
   "execution_count": null,
   "metadata": {},
   "outputs": [],
   "source": [
    "np.round(rmse_array,3)"
   ]
  },
  {
   "cell_type": "code",
   "execution_count": null,
   "metadata": {},
   "outputs": [],
   "source": [
    "gauss_model_small = gauss_process(b=5, sigma2=2)\n",
    "gauss_model_small.fit(X_train_G[:,3:4],y_train_G)\n",
    "y_hat = gauss_model_small.predict(X_train_G[:,3:4])"
   ]
  },
  {
   "cell_type": "code",
   "execution_count": null,
   "metadata": {},
   "outputs": [],
   "source": [
    "fig,ax = plt.subplots(1,1);\n",
    "ax.scatter(X_train_G[:,3:4], y_train_G, label='Actual response');\n",
    "ax.plot(np.sort(X_train_G[:,3]), y_hat[np.argsort(X_train_G[:,3])], c='black', linewidth=4, label='Predictive mean');\n",
    "ax.set_xlabel('Standardized car weight');\n",
    "ax.set_ylabel('Standardized MPG');\n",
    "ax.legend();\n",
    "#plt.savefig('3_d.png');"
   ]
  }
 ],
 "metadata": {
  "kernelspec": {
   "display_name": "Python 3",
   "language": "python",
   "name": "python3"
  },
  "language_info": {
   "codemirror_mode": {
    "name": "ipython",
    "version": 3
   },
   "file_extension": ".py",
   "mimetype": "text/x-python",
   "name": "python",
   "nbconvert_exporter": "python",
   "pygments_lexer": "ipython3",
   "version": "3.7.3"
  }
 },
 "nbformat": 4,
 "nbformat_minor": 2
}
